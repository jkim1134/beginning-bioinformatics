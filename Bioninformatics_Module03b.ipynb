{
  "nbformat": 4,
  "nbformat_minor": 0,
  "metadata": {
    "colab": {
      "provenance": [],
      "authorship_tag": "ABX9TyNJ7rfpOzfImqEMbMsC3bRx",
      "include_colab_link": true
    },
    "kernelspec": {
      "name": "python3",
      "display_name": "Python 3"
    },
    "language_info": {
      "name": "python"
    }
  },
  "cells": [
    {
      "cell_type": "markdown",
      "metadata": {
        "id": "view-in-github",
        "colab_type": "text"
      },
      "source": [
        "<a href=\"https://colab.research.google.com/github/jkim1134/beginning-bioinformatics/blob/main/Bioninformatics_Module03b.ipynb\" target=\"_parent\"><img src=\"https://colab.research.google.com/assets/colab-badge.svg\" alt=\"Open In Colab\"/></a>"
      ]
    },
    {
      "cell_type": "code",
      "execution_count": null,
      "metadata": {
        "colab": {
          "base_uri": "https://localhost:8080/"
        },
        "id": "vdWSRgGWFj05",
        "outputId": "94725327-5b2b-4cbc-9a1a-2a79374bf4c8"
      },
      "outputs": [
        {
          "output_type": "stream",
          "name": "stdout",
          "text": [
            "Hello world\n"
          ]
        }
      ],
      "source": [
        "print (\"Hello world\")"
      ]
    },
    {
      "cell_type": "code",
      "source": [
        "x=5\n",
        "x"
      ],
      "metadata": {
        "colab": {
          "base_uri": "https://localhost:8080/"
        },
        "id": "TWhgr-tYF3X4",
        "outputId": "3779679c-f06f-40d9-a55b-e7546ca16fd7"
      },
      "execution_count": null,
      "outputs": [
        {
          "output_type": "execute_result",
          "data": {
            "text/plain": [
              "5"
            ]
          },
          "metadata": {},
          "execution_count": 5
        }
      ]
    },
    {
      "cell_type": "code",
      "source": [
        "print (x)"
      ],
      "metadata": {
        "colab": {
          "base_uri": "https://localhost:8080/"
        },
        "id": "YVtyVlPfGT-G",
        "outputId": "0e7a289e-2651-462f-e4b3-da305a04c5cb"
      },
      "execution_count": null,
      "outputs": [
        {
          "output_type": "stream",
          "name": "stdout",
          "text": [
            "5\n"
          ]
        }
      ]
    },
    {
      "cell_type": "code",
      "source": [
        "# Example 1: Simple assignment\n",
        "a = 10\n",
        "print(f\"a = {a}\")\n",
        "\n",
        "# Example 2: Add and assign\n",
        "b = 5\n",
        "b += 3 # Equivalent to b = b + 3\n",
        "print(f\"b += 3 results in b = {b}\")\n",
        "\n",
        "# Example 3: Multiply and assign\n",
        "c = 2\n",
        "c *= 4 # Equivalent to c = c * 4\n",
        "print(f\"c *= 4 results in c = {c}\")"
      ],
      "metadata": {
        "colab": {
          "base_uri": "https://localhost:8080/"
        },
        "id": "6RemhDsdGpNq",
        "outputId": "87ea5b5f-c8fa-421f-ee0b-659d630daebc"
      },
      "execution_count": null,
      "outputs": [
        {
          "output_type": "stream",
          "name": "stdout",
          "text": [
            "a = 10\n",
            "b += 3 results in b = 8\n",
            "c *= 4 results in c = 8\n"
          ]
        }
      ]
    },
    {
      "cell_type": "code",
      "source": [
        "x==5"
      ],
      "metadata": {
        "colab": {
          "base_uri": "https://localhost:8080/"
        },
        "id": "5NQkzriVHL7l",
        "outputId": "1347eefb-6e46-486f-e2c0-1ab10805f5a9"
      },
      "execution_count": null,
      "outputs": [
        {
          "output_type": "execute_result",
          "data": {
            "text/plain": [
              "True"
            ]
          },
          "metadata": {},
          "execution_count": 10
        }
      ]
    },
    {
      "cell_type": "code",
      "source": [
        "a=924\n",
        "b=856\n",
        "c=a**2+b**2\n",
        "c"
      ],
      "metadata": {
        "colab": {
          "base_uri": "https://localhost:8080/"
        },
        "id": "y3RLjWi5HupS",
        "outputId": "c17030ff-ecb5-47ff-c1b7-5491320dec0e"
      },
      "execution_count": null,
      "outputs": [
        {
          "output_type": "execute_result",
          "data": {
            "text/plain": [
              "1586512"
            ]
          },
          "metadata": {},
          "execution_count": 7
        }
      ]
    },
    {
      "cell_type": "code",
      "source": [
        "name = input(\"Enter your name: \")\n",
        "print(\"Hello, \" + name)"
      ],
      "metadata": {
        "colab": {
          "base_uri": "https://localhost:8080/"
        },
        "id": "1DEoUKyzP0is",
        "outputId": "db24739e-a81f-4003-e94a-9bc65180fca4"
      },
      "execution_count": null,
      "outputs": [
        {
          "output_type": "stream",
          "name": "stdout",
          "text": [
            "Enter your name: jkim40\n",
            "Hello, jkim40\n"
          ]
        }
      ]
    },
    {
      "cell_type": "code",
      "source": [
        "a=882\n",
        "b=892\n",
        "c=a**2+b**2\n",
        "c"
      ],
      "metadata": {
        "colab": {
          "base_uri": "https://localhost:8080/"
        },
        "id": "v7so_FICQPpC",
        "outputId": "78093ebf-ee82-41d4-dbd9-bd2eb197ca1b"
      },
      "execution_count": null,
      "outputs": [
        {
          "output_type": "execute_result",
          "data": {
            "text/plain": [
              "1573588"
            ]
          },
          "metadata": {},
          "execution_count": 18
        }
      ]
    },
    {
      "cell_type": "code",
      "source": [
        "my_string = \"b4Qz9G7mZOnHeterodonHelgIsjfmsrd9E5PdDtM5SrutilansjMX9MV24Q1Qj7e6vV4pqUmu0CSDNWMUyz4khYV9IJi1uluZYjriL6BoDWt88dbKgw7cOmzKBOQsuEnx12LpjZs87PLRVMJllwjTVFkSphDEL79ByOgYVTtq23r6Q4sjghDCO8eXf.\"\n",
        "print (my_string[11:20],my_string[42:50])"
      ],
      "metadata": {
        "colab": {
          "base_uri": "https://localhost:8080/"
        },
        "id": "yFZKvmlgUK9W",
        "outputId": "210950b3-0430-4706-dbc8-d257381e7076"
      },
      "execution_count": null,
      "outputs": [
        {
          "output_type": "stream",
          "name": "stdout",
          "text": [
            "Heterodon rutilans\n"
          ]
        }
      ]
    },
    {
      "cell_type": "code",
      "source": [
        "a=4740\n",
        "b=9592\n",
        "\n",
        "if a!=b:\n",
        "  print(a-b)\n",
        "\n",
        "else:\n",
        "  print(a+b)"
      ],
      "metadata": {
        "colab": {
          "base_uri": "https://localhost:8080/"
        },
        "id": "srHs_mR8W09g",
        "outputId": "c938354e-6c3b-44a9-aeb4-f0baab652d06"
      },
      "execution_count": null,
      "outputs": [
        {
          "output_type": "stream",
          "name": "stdout",
          "text": [
            "-4852\n"
          ]
        }
      ]
    },
    {
      "cell_type": "code",
      "source": [
        "#!/usr/bin/env python3\n",
        "print(range(5, 12))"
      ],
      "metadata": {
        "colab": {
          "base_uri": "https://localhost:8080/"
        },
        "id": "O47AqUWDYzmI",
        "outputId": "ccd26af8-fcbf-4b71-c0de-6d6e9a70d0f3"
      },
      "execution_count": null,
      "outputs": [
        {
          "output_type": "stream",
          "name": "stdout",
          "text": [
            "range(5, 12)\n"
          ]
        }
      ]
    },
    {
      "cell_type": "code",
      "source": [
        "a=5\n",
        "b=5\n",
        "\n",
        "if a!=b:\n",
        "  print(a-b)\n",
        "\n",
        "else:\n",
        "  print(a+b)\n"
      ],
      "metadata": {
        "colab": {
          "base_uri": "https://localhost:8080/"
        },
        "id": "sbrk0frpaDkh",
        "outputId": "d7f3c5d1-95e5-4d4d-a29d-2c920950d4b5"
      },
      "execution_count": null,
      "outputs": [
        {
          "output_type": "stream",
          "name": "stdout",
          "text": [
            "10\n"
          ]
        }
      ]
    },
    {
      "cell_type": "code",
      "source": [
        "a=100\n",
        "b=200\n",
        "for i in range (a;b)\n",
        "  print (i%2)\n",
        "\n"
      ],
      "metadata": {
        "colab": {
          "base_uri": "https://localhost:8080/",
          "height": 106
        },
        "id": "EVJu8VK-byQM",
        "outputId": "a7047007-0107-40bd-a090-335defe8d305"
      },
      "execution_count": null,
      "outputs": [
        {
          "output_type": "error",
          "ename": "SyntaxError",
          "evalue": "invalid syntax (ipython-input-1587545635.py, line 3)",
          "traceback": [
            "\u001b[0;36m  File \u001b[0;32m\"/tmp/ipython-input-1587545635.py\"\u001b[0;36m, line \u001b[0;32m3\u001b[0m\n\u001b[0;31m    for i in range (a;b)\u001b[0m\n\u001b[0m                     ^\u001b[0m\n\u001b[0;31mSyntaxError\u001b[0m\u001b[0;31m:\u001b[0m invalid syntax\n"
          ]
        }
      ]
    },
    {
      "cell_type": "code",
      "source": [
        "odd_numbers = [num for num in range (100,200) if num % 2 == 1]\n",
        "print(odd_numbers)\n"
      ],
      "metadata": {
        "colab": {
          "base_uri": "https://localhost:8080/"
        },
        "id": "dBLIGFSCcVek",
        "outputId": "b8f6cc8b-7e48-453f-b48f-824d45605b6e"
      },
      "execution_count": null,
      "outputs": [
        {
          "output_type": "stream",
          "name": "stdout",
          "text": [
            "[101, 103, 105, 107, 109, 111, 113, 115, 117, 119, 121, 123, 125, 127, 129, 131, 133, 135, 137, 139, 141, 143, 145, 147, 149, 151, 153, 155, 157, 159, 161, 163, 165, 167, 169, 171, 173, 175, 177, 179, 181, 183, 185, 187, 189, 191, 193, 195, 197, 199]\n"
          ]
        }
      ]
    },
    {
      "cell_type": "code",
      "source": [
        "odd_sum = sum(num for num in range (4188,8754) if num % 2 == 1)\n",
        "print(odd_sum)"
      ],
      "metadata": {
        "colab": {
          "base_uri": "https://localhost:8080/"
        },
        "id": "ItNr8IOnBgv-",
        "outputId": "74cc69d7-57a2-4eb8-9e66-c2d5107eaa7e"
      },
      "execution_count": null,
      "outputs": [
        {
          "output_type": "stream",
          "name": "stdout",
          "text": [
            "14773293\n"
          ]
        }
      ]
    },
    {
      "cell_type": "code",
      "source": [
        "f = open(\"rosalind_ini5 (2).txt\",\"r\")\n",
        "\n",
        "  for i, line in enumerate(f, start=1):\n",
        "     if (i + 1) % 2 == 0:\n",
        "    print (line)"
      ],
      "metadata": {
        "id": "bu9xN96mB5uB",
        "colab": {
          "base_uri": "https://localhost:8080/",
          "height": 106
        },
        "outputId": "3ce33893-d4a6-45b6-eb2f-74303ab1943e"
      },
      "execution_count": null,
      "outputs": [
        {
          "output_type": "error",
          "ename": "IndentationError",
          "evalue": "unindent does not match any outer indentation level (<tokenize>, line 5)",
          "traceback": [
            "\u001b[0;36m  File \u001b[0;32m\"<tokenize>\"\u001b[0;36m, line \u001b[0;32m5\u001b[0m\n\u001b[0;31m    print (line)\u001b[0m\n\u001b[0m    ^\u001b[0m\n\u001b[0;31mIndentationError\u001b[0m\u001b[0;31m:\u001b[0m unindent does not match any outer indentation level\n"
          ]
        }
      ]
    },
    {
      "cell_type": "code",
      "source": [
        "      print(outputFile)"
      ],
      "metadata": {
        "id": "mRgB0kfYKU8c",
        "colab": {
          "base_uri": "https://localhost:8080/",
          "height": 141
        },
        "outputId": "b283f2db-57b0-4c44-db47-4622fd43d295"
      },
      "execution_count": null,
      "outputs": [
        {
          "output_type": "error",
          "ename": "NameError",
          "evalue": "name 'outputFile' is not defined",
          "traceback": [
            "\u001b[0;31m---------------------------------------------------------------------------\u001b[0m",
            "\u001b[0;31mNameError\u001b[0m                                 Traceback (most recent call last)",
            "\u001b[0;32m/tmp/ipython-input-3458644168.py\u001b[0m in \u001b[0;36m<cell line: 0>\u001b[0;34m()\u001b[0m\n\u001b[0;32m----> 1\u001b[0;31m \u001b[0mprint\u001b[0m\u001b[0;34m(\u001b[0m\u001b[0moutputFile\u001b[0m\u001b[0;34m)\u001b[0m\u001b[0;34m\u001b[0m\u001b[0;34m\u001b[0m\u001b[0m\n\u001b[0m",
            "\u001b[0;31mNameError\u001b[0m: name 'outputFile' is not defined"
          ]
        }
      ]
    },
    {
      "cell_type": "code",
      "source": [
        "with open(\"practice.txt\",\"r\") as file:\n",
        "list_of_lines = file.readlines()\n",
        "for line in list_of_lines:\n",
        "  if readlines() % 2 == 0:\n",
        "    print(line.strip())"
      ],
      "metadata": {
        "colab": {
          "base_uri": "https://localhost:8080/",
          "height": 106
        },
        "id": "MnRxTpMPOdDr",
        "outputId": "df1d13db-d0ca-4861-a7a1-eeaa64ffafe0"
      },
      "execution_count": null,
      "outputs": [
        {
          "output_type": "error",
          "ename": "IndentationError",
          "evalue": "expected an indented block after 'with' statement on line 1 (ipython-input-1932614389.py, line 2)",
          "traceback": [
            "\u001b[0;36m  File \u001b[0;32m\"/tmp/ipython-input-1932614389.py\"\u001b[0;36m, line \u001b[0;32m2\u001b[0m\n\u001b[0;31m    list_of_lines = file.readlines()\u001b[0m\n\u001b[0m    ^\u001b[0m\n\u001b[0;31mIndentationError\u001b[0m\u001b[0;31m:\u001b[0m expected an indented block after 'with' statement on line 1\n"
          ]
        }
      ]
    },
    {
      "cell_type": "code",
      "source": [
        "with open(\"practice.txt\", \"r\") as file:\n",
        "    list_of_lines = file.readlines()\n",
        "\n",
        "    for index, line in enumerate(list_of_lines, start=1):\n",
        "        if index % 2 == 0:  # Check for even-numbered lines\n",
        "            print(line.strip())\n"
      ],
      "metadata": {
        "colab": {
          "base_uri": "https://localhost:8080/"
        },
        "id": "79ozmTdMXCLN",
        "outputId": "5cd31921-6713-4c75-a5de-62997fed9271"
      },
      "execution_count": null,
      "outputs": [
        {
          "output_type": "stream",
          "name": "stdout",
          "text": [
            "Some things in life are bad, they can really make you mad\n",
            "Other things just make you swear and curse\n",
            "When you're chewing on life's gristle, don't grumble give a whistle\n",
            "This will help things turn out for the best\n",
            "Always look on the bright side of life\n",
            "Always look on the right side of life\n",
            "If life seems jolly rotten, there's something you've forgotten\n",
            "And that's to laugh and smile and dance and sing\n",
            "When you're feeling in the dumps, don't be silly, chumps\n",
            "Just purse your lips and whistle, that's the thing\n",
            "So, always look on the bright side of death\n",
            "Just before you draw your terminal breath\n",
            "Life's a counterfeit and when you look at it\n",
            "Life's a laugh and death's the joke, it's true\n",
            "You see, it's all a show, keep them laughing as you go\n",
            "Just remember the last laugh is on you\n",
            "Always look on the bright side of life\n",
            "And always look on the right side of life\n",
            "Always look on the bright side of life\n",
            "And always look on the right side of life\n"
          ]
        }
      ]
    },
    {
      "cell_type": "code",
      "source": [
        "with open(\"rosalind_ini5.txt\", \"r\") as file:\n",
        "    list_of_lines = file.readlines()\n",
        "\n",
        "    for index, line in enumerate(list_of_lines, start=1):\n",
        "        if index % 2 == 0:  # Check for even-numbered lines\n",
        "            print(line.strip())\n"
      ],
      "metadata": {
        "colab": {
          "base_uri": "https://localhost:8080/",
          "height": 211
        },
        "id": "rj6cnI9ZXEUO",
        "outputId": "c9aabbc9-70d9-4d88-870f-c8a23a2b2bff"
      },
      "execution_count": null,
      "outputs": [
        {
          "output_type": "error",
          "ename": "FileNotFoundError",
          "evalue": "[Errno 2] No such file or directory: 'rosalind_ini5.txt'",
          "traceback": [
            "\u001b[0;31m---------------------------------------------------------------------------\u001b[0m",
            "\u001b[0;31mFileNotFoundError\u001b[0m                         Traceback (most recent call last)",
            "\u001b[0;32m/tmp/ipython-input-1479422814.py\u001b[0m in \u001b[0;36m<cell line: 0>\u001b[0;34m()\u001b[0m\n\u001b[0;32m----> 1\u001b[0;31m \u001b[0;32mwith\u001b[0m \u001b[0mopen\u001b[0m\u001b[0;34m(\u001b[0m\u001b[0;34m\"rosalind_ini5.txt\"\u001b[0m\u001b[0;34m,\u001b[0m \u001b[0;34m\"r\"\u001b[0m\u001b[0;34m)\u001b[0m \u001b[0;32mas\u001b[0m \u001b[0mfile\u001b[0m\u001b[0;34m:\u001b[0m\u001b[0;34m\u001b[0m\u001b[0;34m\u001b[0m\u001b[0m\n\u001b[0m\u001b[1;32m      2\u001b[0m     \u001b[0mlist_of_lines\u001b[0m \u001b[0;34m=\u001b[0m \u001b[0mfile\u001b[0m\u001b[0;34m.\u001b[0m\u001b[0mreadlines\u001b[0m\u001b[0;34m(\u001b[0m\u001b[0;34m)\u001b[0m\u001b[0;34m\u001b[0m\u001b[0;34m\u001b[0m\u001b[0m\n\u001b[1;32m      3\u001b[0m \u001b[0;34m\u001b[0m\u001b[0m\n\u001b[1;32m      4\u001b[0m     \u001b[0;32mfor\u001b[0m \u001b[0mindex\u001b[0m\u001b[0;34m,\u001b[0m \u001b[0mline\u001b[0m \u001b[0;32min\u001b[0m \u001b[0menumerate\u001b[0m\u001b[0;34m(\u001b[0m\u001b[0mlist_of_lines\u001b[0m\u001b[0;34m,\u001b[0m \u001b[0mstart\u001b[0m\u001b[0;34m=\u001b[0m\u001b[0;36m1\u001b[0m\u001b[0;34m)\u001b[0m\u001b[0;34m:\u001b[0m\u001b[0;34m\u001b[0m\u001b[0;34m\u001b[0m\u001b[0m\n\u001b[1;32m      5\u001b[0m         \u001b[0;32mif\u001b[0m \u001b[0mindex\u001b[0m \u001b[0;34m%\u001b[0m \u001b[0;36m2\u001b[0m \u001b[0;34m==\u001b[0m \u001b[0;36m0\u001b[0m\u001b[0;34m:\u001b[0m  \u001b[0;31m# Check for even-numbered lines\u001b[0m\u001b[0;34m\u001b[0m\u001b[0;34m\u001b[0m\u001b[0m\n",
            "\u001b[0;31mFileNotFoundError\u001b[0m: [Errno 2] No such file or directory: 'rosalind_ini5.txt'"
          ]
        }
      ]
    },
    {
      "cell_type": "code",
      "source": [
        "with open(\"example.txt\", \"r\") as file:\n",
        "    list = file.readline()\n",
        "    my_dict = {}\n",
        "    words = text.split()\n",
        "for word in str.split(' '):\n",
        "   if word in word_count:\n",
        "    word_count[word] += 1\n",
        "    else:\n",
        "       word_count[word] = 1\n",
        "for key, value in word_count.items():\n",
        "    print(f\"{key}: {value}\")"
      ],
      "metadata": {
        "id": "nmh3X1R-KDIG",
        "colab": {
          "base_uri": "https://localhost:8080/",
          "height": 106
        },
        "outputId": "445ee8d2-be3b-4a4e-aff8-83845e9a5561"
      },
      "execution_count": null,
      "outputs": [
        {
          "output_type": "error",
          "ename": "SyntaxError",
          "evalue": "invalid syntax (ipython-input-2135972480.py, line 8)",
          "traceback": [
            "\u001b[0;36m  File \u001b[0;32m\"/tmp/ipython-input-2135972480.py\"\u001b[0;36m, line \u001b[0;32m8\u001b[0m\n\u001b[0;31m    else:\u001b[0m\n\u001b[0m    ^\u001b[0m\n\u001b[0;31mSyntaxError\u001b[0m\u001b[0;31m:\u001b[0m invalid syntax\n"
          ]
        }
      ]
    },
    {
      "cell_type": "code",
      "source": [
        "with open(\"rosalind_ini6 (1).txt\", \"r\") as file:\n",
        "    text = file.read()\n",
        "word_count = {}\n",
        "words = text.split()\n",
        "for word in words:\n",
        "    if word in word_count:\n",
        "        word_count[word] += 1\n",
        "    else:\n",
        "        word_count[word] = 1\n",
        "for key, value in word_count.items():\n",
        "    print(f\"{key}: {value}\")"
      ],
      "metadata": {
        "colab": {
          "base_uri": "https://localhost:8080/"
        },
        "id": "A968d4sJ_pYh",
        "outputId": "273fca4f-14ee-4f16-8673-77416f2b4072"
      },
      "execution_count": null,
      "outputs": [
        {
          "output_type": "stream",
          "name": "stdout",
          "text": [
            "When: 1\n",
            "I: 2\n",
            "find: 1\n",
            "myself: 1\n",
            "in: 4\n",
            "times: 1\n",
            "of: 11\n",
            "trouble: 1\n",
            "Mother: 2\n",
            "Mary: 2\n",
            "comes: 2\n",
            "to: 3\n",
            "me: 4\n",
            "Speaking: 3\n",
            "words: 7\n",
            "wisdom: 7\n",
            "let: 30\n",
            "it: 36\n",
            "be: 41\n",
            "And: 3\n",
            "my: 1\n",
            "hour: 1\n",
            "darkness: 1\n",
            "she: 1\n",
            "is: 4\n",
            "standing: 1\n",
            "right: 1\n",
            "front: 1\n",
            "Let: 6\n",
            "Whisper: 4\n",
            "when: 2\n",
            "the: 4\n",
            "broken: 1\n",
            "hearted: 1\n",
            "people: 1\n",
            "living: 1\n",
            "world: 1\n",
            "agree: 1\n",
            "There: 4\n",
            "will: 5\n",
            "an: 4\n",
            "answer: 4\n",
            "For: 1\n",
            "though: 1\n",
            "they: 2\n",
            "may: 1\n",
            "parted: 1\n",
            "there: 2\n",
            "still: 2\n",
            "a: 2\n",
            "chance: 1\n",
            "that: 2\n",
            "see: 1\n",
            "night: 1\n",
            "cloudy: 1\n",
            "light: 1\n",
            "shines: 1\n",
            "on: 1\n",
            "Shine: 1\n",
            "until: 1\n",
            "tomorrow: 1\n",
            "wake: 1\n",
            "up: 1\n",
            "sound: 1\n",
            "music: 1\n",
            "yeah: 2\n"
          ]
        }
      ]
    },
    {
      "cell_type": "code",
      "source": [
        "with open(\"rosalind_dna.txt\", \"r\") as file:\n",
        "    text = file.read().strip()\n",
        "    counts = {'A': 0, 'C': 0, 'G': 0, 'T': 0}\n",
        "    for base in text:\n",
        "        if base in counts:\n",
        "            counts[base] += 1\n",
        "    for base, count in counts.items():\n",
        "        print(f\"{base}: {count}\")"
      ],
      "metadata": {
        "colab": {
          "base_uri": "https://localhost:8080/"
        },
        "id": "7_Pp8umpJaVd",
        "outputId": "eb834249-695d-40b7-da99-f4dcac57dab9"
      },
      "execution_count": null,
      "outputs": [
        {
          "output_type": "stream",
          "name": "stdout",
          "text": [
            "A: 244\n",
            "C: 236\n",
            "G: 239\n",
            "T: 202\n"
          ]
        }
      ]
    },
    {
      "cell_type": "code",
      "source": [
        "!pip install biopython"
      ],
      "metadata": {
        "id": "6A69MwP_JTax",
        "colab": {
          "base_uri": "https://localhost:8080/"
        },
        "outputId": "1d20a4e8-6e0d-492e-98ac-3a062aefd334"
      },
      "execution_count": null,
      "outputs": [
        {
          "output_type": "stream",
          "name": "stdout",
          "text": [
            "Requirement already satisfied: biopython in /usr/local/lib/python3.12/dist-packages (1.85)\n",
            "Requirement already satisfied: numpy in /usr/local/lib/python3.12/dist-packages (from biopython) (2.0.2)\n"
          ]
        }
      ]
    },
    {
      "cell_type": "code",
      "source": [
        "import Bio\n",
        "print(Bio.__version__)"
      ],
      "metadata": {
        "colab": {
          "base_uri": "https://localhost:8080/"
        },
        "id": "FDpNRQncQQBU",
        "outputId": "f92e1585-bafe-4afe-a332-fdc4065bf1bb"
      },
      "execution_count": null,
      "outputs": [
        {
          "output_type": "stream",
          "name": "stdout",
          "text": [
            "1.85\n"
          ]
        }
      ]
    },
    {
      "cell_type": "code",
      "source": [
        "from Bio.Seq import Seq\n",
        "my_sequence = Seq(\"TTCATAGCCGCCACTCTCACTAGGCCATTCAAGTGTTCGTCATGTAAGTTTAGCATCGGAGGTACAATGGGATGCTCCCAGTCGGGGAGTAGGTAGGATGCATTCGTTTACACACGTTTGCTGACATGAGCGGTGGAGGATAACGACCCAATTGGGCAACCTGCACCCCCTGACAAGCAGTCATACCTCTCTCGATTAGACTACCACCGTCGAACGGGGCACTGTTCATACCAAGACATCAATTCTTGATCTAGGGTAGCTTCCAGTGTGAGGTTAGTGCTGGTGGGAGTTGTAAATCAGCCATACCATTACGGACAACTTAACTGTAATTCGAACAAGCACGTGTGCTGCACAGGTGGGGTTAAATTTTTAAATCTGCTCTAGAAGACTGATACTTCCAGTGCGAAGAAGTAGAACTTCTGCGGTTTGGGAATTTGACGCGTCTTAATAAGCCCGAAGATTCAAGTAAGTCCTCAATCCGTTTCTGAGAGCCAGGCAATGATCCACCCGAGCGTCCTTGATTCGTCTCAACATCCTATTATTTCTACGCACCTAATCTCAGGAAACTGCCCCACCCAATCGTACGGTCGGAACTAGACTAGTATCCGGACATGACGGATATTGCGCAAGGCTATCCGTGTAAAAGCCTACTGCGCGGCACTTTCGATTCACTACTAGGAACATCTAATAAAAGAGCGTTACGAAGCTGTTTAAGATGATTAAGAATCGCTCCCGGATTACCGACGCTAAACCTAAGGATGCGGGTGTGGACAGAGCTAGCATAATATGCAGCGCATTCGTAGGATTGGCCCAATTCGAACATATGTGTAAAGCCGCTGACAACTGACCTGATCAGAGAGTAATGACCCATGGACTATACCTGGTGAGCTGTGATGCAGGAGGCGTGAAACTGAGTTTCGACACCACAAGT\")\n",
        "rna_seq = my_sequence.transcribe()\n",
        "print(\"RNA Sequence:\", rna_seq)"
      ],
      "metadata": {
        "colab": {
          "base_uri": "https://localhost:8080/"
        },
        "id": "1vX9quUpRIJm",
        "outputId": "00027f45-6eba-4c8a-fbc5-f8595c2c7425"
      },
      "execution_count": null,
      "outputs": [
        {
          "output_type": "stream",
          "name": "stdout",
          "text": [
            "RNA Sequence: UUCAUAGCCGCCACUCUCACUAGGCCAUUCAAGUGUUCGUCAUGUAAGUUUAGCAUCGGAGGUACAAUGGGAUGCUCCCAGUCGGGGAGUAGGUAGGAUGCAUUCGUUUACACACGUUUGCUGACAUGAGCGGUGGAGGAUAACGACCCAAUUGGGCAACCUGCACCCCCUGACAAGCAGUCAUACCUCUCUCGAUUAGACUACCACCGUCGAACGGGGCACUGUUCAUACCAAGACAUCAAUUCUUGAUCUAGGGUAGCUUCCAGUGUGAGGUUAGUGCUGGUGGGAGUUGUAAAUCAGCCAUACCAUUACGGACAACUUAACUGUAAUUCGAACAAGCACGUGUGCUGCACAGGUGGGGUUAAAUUUUUAAAUCUGCUCUAGAAGACUGAUACUUCCAGUGCGAAGAAGUAGAACUUCUGCGGUUUGGGAAUUUGACGCGUCUUAAUAAGCCCGAAGAUUCAAGUAAGUCCUCAAUCCGUUUCUGAGAGCCAGGCAAUGAUCCACCCGAGCGUCCUUGAUUCGUCUCAACAUCCUAUUAUUUCUACGCACCUAAUCUCAGGAAACUGCCCCACCCAAUCGUACGGUCGGAACUAGACUAGUAUCCGGACAUGACGGAUAUUGCGCAAGGCUAUCCGUGUAAAAGCCUACUGCGCGGCACUUUCGAUUCACUACUAGGAACAUCUAAUAAAAGAGCGUUACGAAGCUGUUUAAGAUGAUUAAGAAUCGCUCCCGGAUUACCGACGCUAAACCUAAGGAUGCGGGUGUGGACAGAGCUAGCAUAAUAUGCAGCGCAUUCGUAGGAUUGGCCCAAUUCGAACAUAUGUGUAAAGCCGCUGACAACUGACCUGAUCAGAGAGUAAUGACCCAUGGACUAUACCUGGUGAGCUGUGAUGCAGGAGGCGUGAAACUGAGUUUCGACACCACAAGU\n"
          ]
        }
      ]
    },
    {
      "cell_type": "code",
      "source": [
        "from Bio.Seq import Seq\n",
        "my_sequence = Seq(\"AUGCAGAACUGUGCGUGGUUCUUCACGGACGUAAAUAGUAUUGGCGUAGUCGACCCGGAACCAGGUGAAAGUAGACCCGCGCGACUCUCGGCCGGACACACCAGCAAGCAAAACCGGCGCUACCAACUGUGUAACGGCAGGAUUGCAUACAUACGCGGGGCUCAACUGCUUUUCCACGAGAUUCCCAUCGCCCCACUUAUUAUUACGCAAGUGUGGCUUAGUGGUAUGGUGGCUGCGUCCUAUGUUGCGAUUGGGCAUAAAGACAGCUUAGAUGUGUUCCUCCCAACGUCUUCGGACGACCGUGGAGAAGCACUUUCGGGAAACAUUAGGUUACUGCUUCGUGUACUAAUAAGAACCCCUUUUUCACCCCACGGAGUAUGGUCCUGCAGGGUUACGUGGGGUAGCUCUUCUACAAGGUACUGGAUGGCGUUUCUAGAAUGUAGCAGCUUAAAAGCCACCUGGGACAUAAUACUGCAAAGAUGCGCCACGAGAAGCGUGACUCCACCAAUAACGCGUCCAUCAACGUUCCAUUUACAACUGCUGAGCACGAAACGACGUGGCCGAUUGCAUCAGCGACUUGAUUGCUUAAGUACCCUUGUGCUGGGGCAGGUGGUAUUCUUUGCUUCGCCACAAGCGAAGACUACCAUUUUACAUCAGCUUAUUAUGGACUCAAGAAGCCAUGCUACCGACCUUGUCUCCCAUGUAGAGCCUAUCACAUCAGUAGAACAGAUGAGCAUUGACUCUCCGAUCGAGGGUGCUCUUAUCCCGUCGGCAGCAUUCAACGGAGAUAGUUACUGCUACAAAAAGACCUACCAAAAUCCUGCACAACCCAGAGGUGAGUUGGUAAUGUCCCAGAGGCUAGCUUUACGAAUAAUAAGAAGUGUCUCCAGCUUAUACUACUGUGCCCUCGGGUUGCGCUACGGUGGUGUUUCGGACAAAUCACGCUACUUCACAGAUGACGUCGACGAACUAAUUCUUAAGGGUCCUAAAGUCAGGGCGUGUGAAAAUGUGCAAAGUAAAAUCUGCAAUAGAGCACGGCCAGGUGUGACGCCAUUGCUGGCCCACUCACCUUCCCUUCUUUUUAUAUUAACCGAGCUGCUGACGAGACACGCGUCGCGGAGAAGAGGAGCAUCGUUUGCCGGCAAGCAGGAAAAUGGCUGGCAGCGGAGUGUGCUUAUCCGAGUUUGGCCAAGCGAACGUAGGGUCCACGCGGGCUGGAGAUUCCUAUGCAGGGGGGAUAGGGGCAUAAUCAAUAAGAAUAUGUUUAGGUCCCCGCCCCUGAGUCCUGCUCUUUACGGACAGAAAUGGAUGAUGGAUGUCUCGGGUUACGCAGUGAUGCUGGAGAGUAAUCUCGGCCUGCCAGCCGUAGGGUCUAUGUGUGUUGAUUACAGCGACAACGAUCCCUAUCCUGUAACAACCAGCAGUUCGAAAUCGUACCCGAGGCGAAAUCAUGCAAGCAGACUUCCCAACACGUACGGCGGUGGUCGUAGGGAUGAUAAGCUCGAUGACUUCGGAACCGGGAACUAUAGUUUUCCCUGGCCGUUAAGCACAGCUGAUGGAUCGCGGCAGGGUGUCUUUCGAGCCAUAGGUGAGCUCUUCGCUGCACGGGGGCAAACAGGACUCUCGUGCGAGGGAAGUGUGAUCCCAGAGGCGGACAGACUCGGGCUGGAGACGUUGUAUUGGUUGCAAGUUUGUAACUCAAGUGGGUUCCUCCGCGGAUGCGAAUAUUAUGCAGUAAAGGAGGCUCCGCCCGAACUCCCUAGUGAGUUAAUGGGACUCACAUCGUUCUAUAGUGAAUCCAAGGGGAAUCGUGCAGCGCCAACAGAUAUACGCCUCGGACUGAUCGUUCAAGGUAGAUGCUCACGGGCACGGAAAAGUUGGGAAUCAGAAAUCGUCCGAAUAUGCCCUGUAUGCCUAUUCUUGGUGCGGUGUAGCCGCUGGCCGGCGAUAUGUAUCUAUAGCCUUUGGCCUUUCAUAAGUAGUACGUUGAAACUUGGAUCGAUGUCCAGUCGCCAGUAUGCCCCGGUUGAGCAGUAUGCACUAUACUUGGGUCUUAUACGUCAUACCGAUCGCGUCCAUUCACGUAUUUGUAACACAAAUCACGUCCUACGGCCAUUGCUUUAUAAACUGCGUAUGGACGCGCCCGCACUACAGAAACUUGACCAACAACCCCCUCACCUUUCGGAUAGCGUUUGGGCUUCGCACCGAACAGUAGGCAGCGUUGUGUCCCGGGGGACAAGGGCUAUGAGAGACGCCCAGACGCAAGUGCUACUGCAACGAAUUUUUCGGUGGGAGUGCUUCGCGAGUAGAGCCAGAAUGUGGGUGCCACGCGUGAACAAUAAGGGAUGCUCUGAUCAAUGUUCCUUGCCGGGAACUUCGUGGUGUUCUUUUCGUACUUGGGCUAACGCCUUGAAGCAAACAAGACGCCUGAGCAUACCUUCGUCCAGCGCGGCGCGGCAGUGUCCCGGAUCGCGAUGGCCCAAGGAUAUGGCCUUUGUCACAUGUUCUAUAAGCUCAAUCGUGCACUCUAUGUCUUAUACGCGCCUUUUGUUAAUCACUGUGUACGAAGACAUAGGUUUGGAAUCUAACGGUGCUAAACAACAGAAGUACGAGGGCCGCAGCCAUUGCUGCGCAUGGAGGAACUCUUCUGAACCUCGGAGCGACGACAGCGACUACUUUCAUGGAAUUACAAAUAAGUUGUGCAAUGUGGGCGUCUCUAGACUUGGCGCUAUAUGGGACACGGCGUAUCAGUUAGUGCCAAACACCAUGUUCCGGGAAGUUUGUACAAGUACGGCCGUGUUUGCACGUCCGCUUUCGAUUUGUGAACCCACGCUUGGAGGGCGUAGGUGUGUCUCUGAUGCAAAAGUUGAAGCUCCACUUCUCGGCAGUUACCCAAUCUCAUACGGACUCGAUACUUCUGUCUGGAUACCUUUGGCCCGCUCUGUCGCGCAAGCGGAAGUUAUCACCCCCGUGGCACAGGCCAAUCAGGGUCACACGCCUGUUGGAAGAGUGCGGGGAUCAGGUGUCCCCGCUGCCAAAGUCGUGGUCCGAAGUCCGGUAAUGCUUGGGAAUCUAAUUUCUUCCGUUCUCAUCCUGGUGGCGAUCGACCAGGGACGCAUGACGUGGGAUACGAUUUCUAUGCUCAGACGGUCCGGAGGAGGUGGAUACUUUCAUGCAGCGAAGGAGCACUCCGCGGGCGGCCACUGCUACUUCCGGGUGCUACGUGCCGCGAACUCGACGAAUAUGAGACGGGGCCGCGUAGACAACGGGGUCAAUCAGGAAGAGAUCUUACUCGCGACUCGUAUCUAUGUGGACGGAUACGGCGAGAAGGUGCAUAUGAUGUUCGAGUAUUCUUCAAAACAUAUUGAGAAUCACCCGACGGAACACGGGCCAAAUGUGUCACUUCAGCGUAGUCGUUGCGUAAGUCGUUGCUUGUCGGGCCUAGCCGCGCAAUCCGUUCGGCGGAGUAGCUGGAAGGAUUCCAUGCGUGAUCGUGGCUACCCAUUCCUCGAGUAUUUCGUGCAAACCGAUCGGCCUUCCCCGUACGCGGUAUACUCGACGGCGUGCUAUCUCCGGCGAGGGUUACGGUACCGCCUUGUAAUUGGCGCGUCGAAUCUCCAUGCGAGAUUAAAAGUCGCUGUUUUUAGGGCUAAAGUGUAUAGACUGGUACAGUGCGGUUUACAUUCAUGGAAAGGGCGCUUGGUGCCCGAAGGGGAAUACUCAGACCUAGAGAACGGUUUGCGAUACUCUAGCUAUUAUCUCACAGUUACAUUAGUGAAUAGCAAAGGUGUGUUUUUGCAAUUUGCCGGCUUUCAACGCCUUCUGAGGCACCAAGGUGGUGCUGAGCUAAGGUUUAACGUCCAGAGUGCAAUGGAGAGAUACCUACGACGUGUGCUGGGCCACACGUGUCGCGGCGGACCAUGGCUCAAAGGCUUCUUACUUUCGGCAUAUGGCCGGGCUGGUCGACAACACGGGCCCUCCAGAGCCGAGGACGUUACCAGCGGUCGGGAUUUGUACGAAAACUCAAACACGAUGGACGCAGUCUCACAUCCAGCGAUGCGGUGUGAUCAAUGGUUGAAUCCGCUCAUGCUCUACCCGACACCGGCGACGAAGGGUCACAGAGGUGCCGUCGUGAGGGUCGUGCAUCGGGAUCGGACACGAGUUGAGCAGCUCUUACUGAGGAGAAUGAGCGCACUCUUGUCACUCGUGUGGACAGAACCAUUUUCCUAUAAUCCCCAGCGGCGGGGCAAAUUCCUCCGGUGCAGUAGUGUACCCUUAGUUUUCGCGAAACGUAAGCCUCGGUUAACUCUUAUUGGACUUCGAUGUUUUGUAUAUCAGGAAUGUGACGACAUUUCGCCUGGUAGAGCUGUGUGCGGCACACGGCCCAAAUGCGGAAGGCGAAUGCACUCUUCACCACUUCAUGUAGAUUGGCAACUUCCGGCUCUCCUCCUGCGUUGGCUGGGGAUAUGUGGCGAUACCGCCGCGAGGGGGUACCCUACAUUGUGGGGCCUACUAUGCAGUGUCACGACACAUCGACAAACUCUGUACUGGGUUUGGGUCACGGAGGGUUUGACGGAAGGGAGCUUUGAAGUGUUAAAAGCGGAGGAGCAGGUUCAUAUUGACUACUUGGGUCUGGUGGACACGAUUAAUAUGGUCUUUUCUACAUACGCCUGUCCGUGUCACUCUCAGUUUUACCGUUCUGCGAACACUACCGGGAUCAUCCUGACGUCCGCUCUGCAAAGUUCCUGUUAUUUUUAUCGAGACAGCGGGACAGGCCUAGCUUAUCGAGUACUCACUCACAAAAAUUUUGUUAACUCGUGUCCAACGCAAUACUACACGAAACAAGCCCUUAAGGUACUUAUGCGCUGGCGUAGUCAACCUAUUGGUAGAGUCAUAAAGCCUUCACGGCCAUGCCCAUCGGCACCAAUUCGUAAUGCCGUUAUACUUCCAGAAAGCAUGCUGUGGAGCACUGAUCGAAUGCUCCUCCUCAAGAACUCCACCAUCCGAAGUUGUUCGUGUAGGAGGGCAAGUAGUCGCAGAUCAACGAUAGUAGCAGAUCCACUUUGGGCAGAGGCGCGGCCUCCGAUGAAACUAUCCCAGCGCUUGUCAAAAAGAACGUCGAGGCGGCAACCGCACCGAGGACGUAGCGCUUCUGACCUAACCCCGGCCCUGCACCUAAGCCGCAGCUACCCUAACGUAGUUCUACUGUGCAUACUUGGGCUAAAGUGGCUAAUAAGUCUACCUACGGCGUUGAGGGUCCGAAUGUAUACCUUUAUCCCAAUCAUCGGGGAUCGCAACUGCGGCGUUCUUUUGGCGCGAAAGAGAGGGACACUCCCUGAAAAACUAGGUGGGGGCAGGACACAAGGGAUGCUUGUCUUUCGGCCCUACUUUUUCCAAGACGAGCCAGCCUCUUGUCAGUCGGUCCGCUCCAUCGAACGGUUUCCGGACUCUCGUGGAAUGGCUCGAUUUUACCACCGUGUACGUUAUAGUAUUCUGCAUGACAUCGGCUUUCAAUCGCUUCAUCUGAAAAUCGUAGUGUCCGUUAAGUAUGCAAAGGGGAGGCGGGGUCGACUAACGCCAUCUUAUACUCACUUGGCUUCGAGUACGUGUGUUGAGGACCGAUUCCUGUUUCUUCAGGCUAUGGCUAUCGUAAGGUUGGAACAGAUUGGAGUAUUCCAAACUGUCAUUUCUUCAAACAGUAUACGCAAGUCGCAGAACCAAGUAGUUCCUAGUAAGAGGGGCUUACAUGGAGAGCCACGUACUGGGUUCGAAAGUCCUCCGCUCUUUGAUAGAGUCAGCGAUUUAUUGAAUGAAGACGUUCCCGUAGAAAGUCCGAAAUGUCGGGUAAUGUCGGGAGAAAGCGCGCGGAUGAAAGGGGGCCGGACAUCCUCUUUUAUUUGCGGGAUGGACCCAAGGUGGCGGACGCAAUCGCGUGAAAAUCCUAUGGCCAAGUUUUUCCUGAUUAUAAAGAUAAAGUAUCAAUCAACUCUAAGUGUUUGUACACUCCGGACCGUUCACGAAAUGGCGGCGAGAAACACGGCCGUAACCCGAGACUGCGAUCAGUUGUCCUAUAACCAGGAAAGCUCAAUAAUAAGCCAACAUCGUCUCGAUCAGACACUCGCGCCAUUGACGCUCAGAUUACCUGUCUCGUUGGCAGGGCCACUUUCGGAACUGUCCAUUCAUUAUGUCACAAGUUUACCGUUUGACUUCCGAGUAGCAUUGUGUUGCGAGAAUUCACGGUUACUUAGAGAAAGGUGGGUUUUGCCCACGAACCCAGGCUUAUCCAUCGUCCCCAGUGAGCUAAGCCGACCUUGCCACCGCCCUGAAGCGGUCGUGACCCUGCCGUCACCCAUUAACGAGCCAAGAUCAGCAAGGUUACCGCAAAUAGUUCGGGAUGUAAACUGCACUUCUAUGUGUCACCAUGCGAGUAACUCGUAUGAAGCUGCUACCGGCACGCUCGAGGAGUUCCUUCAGUCUUCUAGCAAUGUAAGAUUCAUUUCCUCUGUUUCGCAACUAUCAAAGAUAGGUGGGGCUACACUAUCUCUCCGGCACUUAAGUUGGAUCCCUUAUAAUCAAAGGUUUUACAUCGUACGGAACGAGAAUCCGUACGCCCCGCCAGCACGAACCAACGUGUUCAAUAGCUUCUAUUUAUCGACCAGCUUCCCCAAUAGUCUAGGGGUUGGCCCCUUCUUUGCUCACGCCCGAGCGCAGCGCGUUCUGAUUCGACGACCCAUCUGGAGCCUCGUGACGGCCCAUAACCGGUGGCGUAAGGUAGCCUACGGCAGGUUUUGUUUUAUACGGCUGGUGCGCCCCCACACAAUGGUUACAAGGAACGGCUCGCGCUCAAUUCCCUGGGCUAACCAGCAGACCCCAGCAAACUGGUGCUUUACCAUAAACCGCACCAAUGCGAUUACAUUCCUUGGCAAGCGUUAUCGCCUCGUUUGGGGUUUGAUCUUCGAAUGUCACAGCAAUAGCACUGGAAAUGUGUUCUUAGUGAUACAUAACAUGCACAGACGAUUUGUGCGAGUAGGUUGUAUCAGCAGUAUGUGCCUCCGCAAUGGGACAGCAGGCUAUAACGCGUUAAGACUGGGCGUUCACUUCCACAAGCCGGAGACUGCUUUAGACACCUUGAUCCCCGACUGUUGUCGCCGGAUUGCGAGACCUCAAUCGCGGUGCGACUCGGCUGCAACCUACUACUAUCAGACAAGCCCCGUUAGACAGGGUCACAAAGGAUUAAAUCAACUGUUCCCAAAGGCGAAUACGAUAAGCCGGGAUAUCAUCACAGUAUCAAUUCUCUAUAGAGAAUUAGCAACCUUUAAUCGACCUCGUGGCAAGGUCGCGCAUCUCCACGAGAGUCCACUGAUUGUGACGGCCUUAUUGCGAAUAGACUUGUUCAACACGUACCUCAGUAAGGGUGGAGUUACAACAACGCCCCUAUGGGUGGCUAUUAGUCCGAUUCACGAAUGCUGGGGAGGCUUAUACGGGGAGAUUUUCCGGGCCCCCCAUUUUACUCUUUGGAUCAGAGUUUUUGGAACGAUAAUUAAAUCCUGUGUUCCCGCGCGCGCCAAGCAUACUUAUGUCGCACGAAACUCGCCUAGUCGCGGUCGUGGGACGCAGGAUUCCGCCUCUCUGGAAACAACGGUAAUGGAACGUGAGGCGGAGCGUAGCUAUCAAGUACGGGGAUGCUUGUCCAAGGGUAUAGCCUACCCCUCACCCAGAAAGCGGUCCGGCCAUGCUAUCCGGCCAAAUCAUACAGUACGUAUUCCCAUCAGCGAUACUAGUCGGCUGGACGAAGGUACGGGAUCAGCUCUUGUCAAUUUUUUGAUUCGUGUGUCUAACGGAUAUACGCGUGUUAAUUUGGAGAAGAGAGGGCCAUGUGAAGUGCUGGAGACCCGGGAGGUGUGUGGCUCUAACUGCGCCCCGAUGGACAACAUGGGAGUACUUCGCACUGACACUGACACACUACAUUGGUGGCGGCGAUCCUUCCCGGCACAGCAGAUAUCUAUGAGUAACAACUCACUCCCCGGUACCGUGCACGUGAUAAUUACCUUCGAGGCCUUACAUGACAGCGGAGGGAAGCUCAAAUCGAGUACGCCCUUGGUAUCUAGGGUGAGUGAGGUUUGUGUUAGCCUUGUAUGCUACGGUGUUGCGCGAGAUCCCCUGAGGAAUUUCUUGAGGAUUAAGCCUUGUAAAUGGGCAUUAAAACUCACGUGCUACCGCUUAAUUGUACCUAGGAUGCUGCUGGACGAGGGUCCCGUACCACAUCGGCCCCAAGAGAGGCGCCCGAGCGCAUACAAUCUUCUUGGUAACUACCAGGAUCGGUACUGGGUUCCUGGAAUAAGGUGGAUUUUAGACCGUACUCACGGCAAAGCAGAGAUUUCCAAAGGCGCGUCAGGGGCGUCAACACAACAUAAUCUAACUUUGACUAGGGGCACAUACCUCUCGCGACUGUUUUUCCGGAGCGCUUCACGUGAAUGUUCGUACUCGCAUAAUAAGGAAAGAGCGAAGAAACGUCCGCCGUUCCGUAAUGUGCAUUACAUUCCGGCAGAUCACCGGGAAGGAAACAUGGGCUUCACGAUUAGAGGACUCGUGUAUAUGUACAACAAUAUAGUAAUAAACGGGUUUUUCUUCAAUGAUCUCUUUAAUAAUAAUCCGGUCUUUGAAGUGCAGGUAGAGCCAUUAGGCGUUCUGACUUCCCUCCCGGAGACAAGCGGACUCAAAAUCCCCAAGCAACCCAAUAAGGUCUACAACCAGAUCAUUUUCCGGGGGCAGGCGAUCAAUCUGUCUUAUCAAACCUACCAGGAUAUCUCAGACUGUCAAGGCUCACCUUUUGAGGAUAGCGGGUAUGCCACCCCUAUCCUAAGGCAAUUAUCUGACACGGGGCAAGGAUGGAUUAAAGCCACUCCCGAGAGUAGACACUCGCGUGUGAGCAGAUUCAGUUCAGUGGGGCGACGCUCUAGGAGUCCGGAAGUAAAAAGGCAAGAGAAGGCUCUUAGGUACAUGAGGUGCCGUUUACCCGCCAUUACGAGUCUGCUGCUGGGUGCAACAGCACCCGUUUGCCCCGGGGGUCCCUCAUGGCUCGUCCGUUCCAAAAUCGUCUCCCAACACAACGCAAAUUUCGCUACCACGGUACUAGAUUAUCUCGUAUUUCAGCGCGAAGAACCCCGUUCAACGGGUCUAUUUAGAUGUAGUUUACCGGGGAUGCGUAAUAAGUCUACAUUACGCGGCCGAGUUUCCCAUGAGAUUGGAUUACGACAGCCACAUAGCUUGUAUAUGAAUUACUAUUUUUCAAAACUUUACUGCAAUAAUACCACGUUCCGAGGAGUGCAUGGUUACGUACAGCGGAUAUUUCUUGAUAGAGCCGGGAUUCCCGGGUCGCAACUCGACUGUCCUGGGCUAAUCCCCAAUCCAAUACCCUUACUGGAAACGCAACAGACUUAUAGCGAGUCCCACGAUUUAGCGAAAGAGCUAAGACCUGUUCGUGGGCUAAACAUAACGUACCGUGACGUGUCUGAUCCUGGUGGCCGAUGCCGGAGCAACGCUCGCGACUCACCAUGA\")\n",
        "protein_seq = my_sequence.translate()\n",
        "\n",
        "print(\"Protein Sequence:\", protein_seq)"
      ],
      "metadata": {
        "colab": {
          "base_uri": "https://localhost:8080/"
        },
        "id": "VG954Q5oReKa",
        "outputId": "7f3640d0-3366-405a-b600-2c438c0b1ba4"
      },
      "execution_count": null,
      "outputs": [
        {
          "output_type": "stream",
          "name": "stdout",
          "text": [
            "Protein Sequence: MQNCAWFFTDVNSIGVVDPEPGESRPARLSAGHTSKQNRRYQLCNGRIAYIRGAQLLFHEIPIAPLIITQVWLSGMVAASYVAIGHKDSLDVFLPTSSDDRGEALSGNIRLLLRVLIRTPFSPHGVWSCRVTWGSSSTRYWMAFLECSSLKATWDIILQRCATRSVTPPITRPSTFHLQLLSTKRRGRLHQRLDCLSTLVLGQVVFFASPQAKTTILHQLIMDSRSHATDLVSHVEPITSVEQMSIDSPIEGALIPSAAFNGDSYCYKKTYQNPAQPRGELVMSQRLALRIIRSVSSLYYCALGLRYGGVSDKSRYFTDDVDELILKGPKVRACENVQSKICNRARPGVTPLLAHSPSLLFILTELLTRHASRRRGASFAGKQENGWQRSVLIRVWPSERRVHAGWRFLCRGDRGIINKNMFRSPPLSPALYGQKWMMDVSGYAVMLESNLGLPAVGSMCVDYSDNDPYPVTTSSSKSYPRRNHASRLPNTYGGGRRDDKLDDFGTGNYSFPWPLSTADGSRQGVFRAIGELFAARGQTGLSCEGSVIPEADRLGLETLYWLQVCNSSGFLRGCEYYAVKEAPPELPSELMGLTSFYSESKGNRAAPTDIRLGLIVQGRCSRARKSWESEIVRICPVCLFLVRCSRWPAICIYSLWPFISSTLKLGSMSSRQYAPVEQYALYLGLIRHTDRVHSRICNTNHVLRPLLYKLRMDAPALQKLDQQPPHLSDSVWASHRTVGSVVSRGTRAMRDAQTQVLLQRIFRWECFASRARMWVPRVNNKGCSDQCSLPGTSWCSFRTWANALKQTRRLSIPSSSAARQCPGSRWPKDMAFVTCSISSIVHSMSYTRLLLITVYEDIGLESNGAKQQKYEGRSHCCAWRNSSEPRSDDSDYFHGITNKLCNVGVSRLGAIWDTAYQLVPNTMFREVCTSTAVFARPLSICEPTLGGRRCVSDAKVEAPLLGSYPISYGLDTSVWIPLARSVAQAEVITPVAQANQGHTPVGRVRGSGVPAAKVVVRSPVMLGNLISSVLILVAIDQGRMTWDTISMLRRSGGGGYFHAAKEHSAGGHCYFRVLRAANSTNMRRGRVDNGVNQEEILLATRIYVDGYGEKVHMMFEYSSKHIENHPTEHGPNVSLQRSRCVSRCLSGLAAQSVRRSSWKDSMRDRGYPFLEYFVQTDRPSPYAVYSTACYLRRGLRYRLVIGASNLHARLKVAVFRAKVYRLVQCGLHSWKGRLVPEGEYSDLENGLRYSSYYLTVTLVNSKGVFLQFAGFQRLLRHQGGAELRFNVQSAMERYLRRVLGHTCRGGPWLKGFLLSAYGRAGRQHGPSRAEDVTSGRDLYENSNTMDAVSHPAMRCDQWLNPLMLYPTPATKGHRGAVVRVVHRDRTRVEQLLLRRMSALLSLVWTEPFSYNPQRRGKFLRCSSVPLVFAKRKPRLTLIGLRCFVYQECDDISPGRAVCGTRPKCGRRMHSSPLHVDWQLPALLLRWLGICGDTAARGYPTLWGLLCSVTTHRQTLYWVWVTEGLTEGSFEVLKAEEQVHIDYLGLVDTINMVFSTYACPCHSQFYRSANTTGIILTSALQSSCYFYRDSGTGLAYRVLTHKNFVNSCPTQYYTKQALKVLMRWRSQPIGRVIKPSRPCPSAPIRNAVILPESMLWSTDRMLLLKNSTIRSCSCRRASSRRSTIVADPLWAEARPPMKLSQRLSKRTSRRQPHRGRSASDLTPALHLSRSYPNVVLLCILGLKWLISLPTALRVRMYTFIPIIGDRNCGVLLARKRGTLPEKLGGGRTQGMLVFRPYFFQDEPASCQSVRSIERFPDSRGMARFYHRVRYSILHDIGFQSLHLKIVVSVKYAKGRRGRLTPSYTHLASSTCVEDRFLFLQAMAIVRLEQIGVFQTVISSNSIRKSQNQVVPSKRGLHGEPRTGFESPPLFDRVSDLLNEDVPVESPKCRVMSGESARMKGGRTSSFICGMDPRWRTQSRENPMAKFFLIIKIKYQSTLSVCTLRTVHEMAARNTAVTRDCDQLSYNQESSIISQHRLDQTLAPLTLRLPVSLAGPLSELSIHYVTSLPFDFRVALCCENSRLLRERWVLPTNPGLSIVPSELSRPCHRPEAVVTLPSPINEPRSARLPQIVRDVNCTSMCHHASNSYEAATGTLEEFLQSSSNVRFISSVSQLSKIGGATLSLRHLSWIPYNQRFYIVRNENPYAPPARTNVFNSFYLSTSFPNSLGVGPFFAHARAQRVLIRRPIWSLVTAHNRWRKVAYGRFCFIRLVRPHTMVTRNGSRSIPWANQQTPANWCFTINRTNAITFLGKRYRLVWGLIFECHSNSTGNVFLVIHNMHRRFVRVGCISSMCLRNGTAGYNALRLGVHFHKPETALDTLIPDCCRRIARPQSRCDSAATYYYQTSPVRQGHKGLNQLFPKANTISRDIITVSILYRELATFNRPRGKVAHLHESPLIVTALLRIDLFNTYLSKGGVTTTPLWVAISPIHECWGGLYGEIFRAPHFTLWIRVFGTIIKSCVPARAKHTYVARNSPSRGRGTQDSASLETTVMEREAERSYQVRGCLSKGIAYPSPRKRSGHAIRPNHTVRIPISDTSRLDEGTGSALVNFLIRVSNGYTRVNLEKRGPCEVLETREVCGSNCAPMDNMGVLRTDTDTLHWWRRSFPAQQISMSNNSLPGTVHVIITFEALHDSGGKLKSSTPLVSRVSEVCVSLVCYGVARDPLRNFLRIKPCKWALKLTCYRLIVPRMLLDEGPVPHRPQERRPSAYNLLGNYQDRYWVPGIRWILDRTHGKAEISKGASGASTQHNLTLTRGTYLSRLFFRSASRECSYSHNKERAKKRPPFRNVHYIPADHREGNMGFTIRGLVYMYNNIVINGFFFNDLFNNNPVFEVQVEPLGVLTSLPETSGLKIPKQPNKVYNQIIFRGQAINLSYQTYQDISDCQGSPFEDSGYATPILRQLSDTGQGWIKATPESRHSRVSRFSSVGRRSRSPEVKRQEKALRYMRCRLPAITSLLLGATAPVCPGGPSWLVRSKIVSQHNANFATTVLDYLVFQREEPRSTGLFRCSLPGMRNKSTLRGRVSHEIGLRQPHSLYMNYYFSKLYCNNTTFRGVHGYVQRIFLDRAGIPGSQLDCPGLIPNPIPLLETQQTYSESHDLAKELRPVRGLNITYRDVSDPGGRCRSNARDSP*\n"
          ]
        }
      ]
    },
    {
      "cell_type": "code",
      "source": [
        "with open(\"rosalind_gc (1).txt\", \"r\") as file:\n",
        "    text = file.read()\n",
        "from Bio.SeqIO import parse\n",
        "gc_fraction(text)\n",
        "for seq_record in parse(\"rosalind_gc (1).txt\", \"fasta\"):\n",
        "    print(seq_record.id)\n",
        "    print(seq_record.seq)\n",
        "    print(len(seq_record.seq))"
      ],
      "metadata": {
        "colab": {
          "base_uri": "https://localhost:8080/",
          "height": 211
        },
        "id": "Q-x_PIewXbEQ",
        "outputId": "ccc44d43-7705-4a32-fb86-fefd612d967d"
      },
      "execution_count": null,
      "outputs": [
        {
          "output_type": "error",
          "ename": "NameError",
          "evalue": "name 'gc_fraction' is not defined",
          "traceback": [
            "\u001b[0;31m---------------------------------------------------------------------------\u001b[0m",
            "\u001b[0;31mNameError\u001b[0m                                 Traceback (most recent call last)",
            "\u001b[0;32m/tmp/ipython-input-4281169904.py\u001b[0m in \u001b[0;36m<cell line: 0>\u001b[0;34m()\u001b[0m\n\u001b[1;32m      2\u001b[0m     \u001b[0mtext\u001b[0m \u001b[0;34m=\u001b[0m \u001b[0mfile\u001b[0m\u001b[0;34m.\u001b[0m\u001b[0mread\u001b[0m\u001b[0;34m(\u001b[0m\u001b[0;34m)\u001b[0m\u001b[0;34m\u001b[0m\u001b[0;34m\u001b[0m\u001b[0m\n\u001b[1;32m      3\u001b[0m \u001b[0;32mfrom\u001b[0m \u001b[0mBio\u001b[0m\u001b[0;34m.\u001b[0m\u001b[0mSeqIO\u001b[0m \u001b[0;32mimport\u001b[0m \u001b[0mparse\u001b[0m\u001b[0;34m\u001b[0m\u001b[0;34m\u001b[0m\u001b[0m\n\u001b[0;32m----> 4\u001b[0;31m \u001b[0mgc_fraction\u001b[0m\u001b[0;34m(\u001b[0m\u001b[0mtext\u001b[0m\u001b[0;34m)\u001b[0m\u001b[0;34m\u001b[0m\u001b[0;34m\u001b[0m\u001b[0m\n\u001b[0m\u001b[1;32m      5\u001b[0m \u001b[0;32mfor\u001b[0m \u001b[0mseq_record\u001b[0m \u001b[0;32min\u001b[0m \u001b[0mparse\u001b[0m\u001b[0;34m(\u001b[0m\u001b[0;34m\"rosalind_gc (1).txt\"\u001b[0m\u001b[0;34m,\u001b[0m \u001b[0;34m\"fasta\"\u001b[0m\u001b[0;34m)\u001b[0m\u001b[0;34m:\u001b[0m\u001b[0;34m\u001b[0m\u001b[0;34m\u001b[0m\u001b[0m\n\u001b[1;32m      6\u001b[0m     \u001b[0mprint\u001b[0m\u001b[0;34m(\u001b[0m\u001b[0mseq_record\u001b[0m\u001b[0;34m.\u001b[0m\u001b[0mid\u001b[0m\u001b[0;34m)\u001b[0m\u001b[0;34m\u001b[0m\u001b[0;34m\u001b[0m\u001b[0m\n",
            "\u001b[0;31mNameError\u001b[0m: name 'gc_fraction' is not defined"
          ]
        }
      ]
    },
    {
      "cell_type": "code",
      "source": [
        "from Bio.SeqIO import parse\n",
        "\n",
        "def gc_content(seq):\n",
        "    gc = seq.count('G') + seq.count('C')\n",
        "    return (gc / len(seq)) * 100\n",
        "\n",
        "max_gc_id = \"\"\n",
        "max_gc_value = 0\n",
        "\n",
        "for seq_record in parse(\"rosalind_gc (2).txt\", \"fasta\"):\n",
        "    gc = gc_content(seq_record.seq)\n",
        "    if gc > max_gc_value:\n",
        "        max_gc_value = gc\n",
        "        max_gc_id = seq_record.id\n",
        "\n",
        "print(max_gc_id)\n",
        "print(f\"{max_gc_value:.6f}\")\n"
      ],
      "metadata": {
        "colab": {
          "base_uri": "https://localhost:8080/"
        },
        "id": "Xpf_SmDcdP8X",
        "outputId": "8afb745e-9f44-45a0-ae50-24ab4f9897ee"
      },
      "execution_count": null,
      "outputs": [
        {
          "output_type": "stream",
          "name": "stdout",
          "text": [
            "Rosalind_0418\n",
            "52.154195\n"
          ]
        }
      ]
    }
  ]
}