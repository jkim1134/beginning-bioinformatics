{
  "nbformat": 4,
  "nbformat_minor": 0,
  "metadata": {
    "colab": {
      "provenance": [],
      "authorship_tag": "ABX9TyO8kHuMLnShYIGUsSoaEzUT",
      "include_colab_link": true
    },
    "kernelspec": {
      "name": "python3",
      "display_name": "Python 3"
    },
    "language_info": {
      "name": "python"
    }
  },
  "cells": [
    {
      "cell_type": "markdown",
      "metadata": {
        "id": "view-in-github",
        "colab_type": "text"
      },
      "source": [
        "<a href=\"https://colab.research.google.com/github/jkim1134/beginning-bioinformatics/blob/main/notebooks/Bioninformatics_Module03b.ipynb\" target=\"_parent\"><img src=\"https://colab.research.google.com/assets/colab-badge.svg\" alt=\"Open In Colab\"/></a>"
      ]
    },
    {
      "cell_type": "code",
      "execution_count": null,
      "metadata": {
        "colab": {
          "base_uri": "https://localhost:8080/"
        },
        "id": "vdWSRgGWFj05",
        "outputId": "94725327-5b2b-4cbc-9a1a-2a79374bf4c8"
      },
      "outputs": [
        {
          "output_type": "stream",
          "name": "stdout",
          "text": [
            "Hello world\n"
          ]
        }
      ],
      "source": [
        "print (\"Hello world\")"
      ]
    },
    {
      "cell_type": "code",
      "source": [
        "x=5\n",
        "x"
      ],
      "metadata": {
        "colab": {
          "base_uri": "https://localhost:8080/"
        },
        "id": "TWhgr-tYF3X4",
        "outputId": "3779679c-f06f-40d9-a55b-e7546ca16fd7"
      },
      "execution_count": null,
      "outputs": [
        {
          "output_type": "execute_result",
          "data": {
            "text/plain": [
              "5"
            ]
          },
          "metadata": {},
          "execution_count": 5
        }
      ]
    },
    {
      "cell_type": "code",
      "source": [
        "print (x)"
      ],
      "metadata": {
        "colab": {
          "base_uri": "https://localhost:8080/"
        },
        "id": "YVtyVlPfGT-G",
        "outputId": "0e7a289e-2651-462f-e4b3-da305a04c5cb"
      },
      "execution_count": null,
      "outputs": [
        {
          "output_type": "stream",
          "name": "stdout",
          "text": [
            "5\n"
          ]
        }
      ]
    },
    {
      "cell_type": "code",
      "source": [
        "# Example 1: Simple assignment\n",
        "a = 10\n",
        "print(f\"a = {a}\")\n",
        "\n",
        "# Example 2: Add and assign\n",
        "b = 5\n",
        "b += 3 # Equivalent to b = b + 3\n",
        "print(f\"b += 3 results in b = {b}\")\n",
        "\n",
        "# Example 3: Multiply and assign\n",
        "c = 2\n",
        "c *= 4 # Equivalent to c = c * 4\n",
        "print(f\"c *= 4 results in c = {c}\")"
      ],
      "metadata": {
        "colab": {
          "base_uri": "https://localhost:8080/"
        },
        "id": "6RemhDsdGpNq",
        "outputId": "87ea5b5f-c8fa-421f-ee0b-659d630daebc"
      },
      "execution_count": null,
      "outputs": [
        {
          "output_type": "stream",
          "name": "stdout",
          "text": [
            "a = 10\n",
            "b += 3 results in b = 8\n",
            "c *= 4 results in c = 8\n"
          ]
        }
      ]
    },
    {
      "cell_type": "code",
      "source": [
        "x==5"
      ],
      "metadata": {
        "colab": {
          "base_uri": "https://localhost:8080/"
        },
        "id": "5NQkzriVHL7l",
        "outputId": "1347eefb-6e46-486f-e2c0-1ab10805f5a9"
      },
      "execution_count": null,
      "outputs": [
        {
          "output_type": "execute_result",
          "data": {
            "text/plain": [
              "True"
            ]
          },
          "metadata": {},
          "execution_count": 10
        }
      ]
    },
    {
      "cell_type": "code",
      "source": [
        "a=924\n",
        "b=856\n",
        "c=a**2+b**2\n",
        "c"
      ],
      "metadata": {
        "colab": {
          "base_uri": "https://localhost:8080/"
        },
        "id": "y3RLjWi5HupS",
        "outputId": "c17030ff-ecb5-47ff-c1b7-5491320dec0e"
      },
      "execution_count": null,
      "outputs": [
        {
          "output_type": "execute_result",
          "data": {
            "text/plain": [
              "1586512"
            ]
          },
          "metadata": {},
          "execution_count": 7
        }
      ]
    },
    {
      "cell_type": "code",
      "source": [
        "name = input(\"Enter your name: \")\n",
        "print(\"Hello, \" + name)"
      ],
      "metadata": {
        "colab": {
          "base_uri": "https://localhost:8080/"
        },
        "id": "1DEoUKyzP0is",
        "outputId": "db24739e-a81f-4003-e94a-9bc65180fca4"
      },
      "execution_count": null,
      "outputs": [
        {
          "output_type": "stream",
          "name": "stdout",
          "text": [
            "Enter your name: jkim40\n",
            "Hello, jkim40\n"
          ]
        }
      ]
    },
    {
      "cell_type": "code",
      "source": [
        "a=882\n",
        "b=892\n",
        "c=a**2+b**2\n",
        "c"
      ],
      "metadata": {
        "colab": {
          "base_uri": "https://localhost:8080/"
        },
        "id": "v7so_FICQPpC",
        "outputId": "78093ebf-ee82-41d4-dbd9-bd2eb197ca1b"
      },
      "execution_count": null,
      "outputs": [
        {
          "output_type": "execute_result",
          "data": {
            "text/plain": [
              "1573588"
            ]
          },
          "metadata": {},
          "execution_count": 18
        }
      ]
    },
    {
      "cell_type": "code",
      "source": [
        "my_string = \"b4Qz9G7mZOnHeterodonHelgIsjfmsrd9E5PdDtM5SrutilansjMX9MV24Q1Qj7e6vV4pqUmu0CSDNWMUyz4khYV9IJi1uluZYjriL6BoDWt88dbKgw7cOmzKBOQsuEnx12LpjZs87PLRVMJllwjTVFkSphDEL79ByOgYVTtq23r6Q4sjghDCO8eXf.\"\n",
        "print (my_string[11:20],my_string[42:50])"
      ],
      "metadata": {
        "colab": {
          "base_uri": "https://localhost:8080/"
        },
        "id": "yFZKvmlgUK9W",
        "outputId": "53c7003a-1c23-4215-c5f4-c00d3177b9f3"
      },
      "execution_count": null,
      "outputs": [
        {
          "output_type": "stream",
          "name": "stdout",
          "text": [
            "Heterodon rutilans\n"
          ]
        }
      ]
    }
  ]
}